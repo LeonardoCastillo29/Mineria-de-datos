{
  "nbformat": 4,
  "nbformat_minor": 0,
  "metadata": {
    "colab": {
      "name": "Ej_Python_1844452.ipynb",
      "provenance": [],
      "authorship_tag": "ABX9TyPiRyhfvSmeYKWyo2sfnCLK",
      "include_colab_link": true
    },
    "kernelspec": {
      "name": "python3",
      "display_name": "Python 3"
    },
    "language_info": {
      "name": "python"
    }
  },
  "cells": [
    {
      "cell_type": "markdown",
      "metadata": {
        "id": "view-in-github",
        "colab_type": "text"
      },
      "source": [
        "<a href=\"https://colab.research.google.com/github/LeonardoCastillo29/Mineria-de-datos/blob/main/Ej_Python_1844452.ipynb\" target=\"_parent\"><img src=\"https://colab.research.google.com/assets/colab-badge.svg\" alt=\"Open In Colab\"/></a>"
      ]
    },
    {
      "cell_type": "markdown",
      "metadata": {
        "id": "hiyGMhsxqqhE"
      },
      "source": [
        "Ejercicio 1:\n",
        "Realiza una variable con tu matricula y realiza una secuencia de imprimir con tu nombre y tu matricula concatenados."
      ]
    },
    {
      "cell_type": "code",
      "metadata": {
        "colab": {
          "base_uri": "https://localhost:8080/"
        },
        "id": "H4XPldMjqv8D",
        "outputId": "905a1581-1b20-4eb6-a8b2-df58e44ebc9d"
      },
      "source": [
        "Matricula=184452\n",
        "Nombre=\"Leonardo\"\n",
        "\n",
        "print( \"Alumno:\",Nombre,\"\\n\",\"Matricula:\",Matricula)"
      ],
      "execution_count": 1,
      "outputs": [
        {
          "output_type": "stream",
          "text": [
            "Alumno: Leonardo \n",
            " Matricula: 184452\n"
          ],
          "name": "stdout"
        }
      ]
    },
    {
      "cell_type": "markdown",
      "metadata": {
        "id": "be_qRMAtrJfi"
      },
      "source": [
        "Ejercicio 2:\n",
        "Pidiendo el input del usuario pide dos números y crea una pequeña calculadora con los operadores básicos de suma, resta, multiplicación, división, y exponente."
      ]
    },
    {
      "cell_type": "code",
      "metadata": {
        "id": "t4IgQ_OfrlnZ"
      },
      "source": [
        "n1 = int(input(\"Introduce un número:\" ))\n",
        "n2 = int(input(\"Introduce otro número:\"))\n",
        "\n",
        "\n",
        "x =int(input(\"Inserte 0 para salir o cualquier otro numero para continuar:\"))\n",
        "while x !=0:\n",
        "    Suma=n1+n2\n",
        "    Resta=n1-n2\n",
        "    Multiplicacion=n1*n2\n",
        "    Division=n1/n2\n",
        "    Exponente=n1**n2\n",
        "    print(\"El resultado de la suma es:\", Suma)\n",
        "    print(\"El resultado de la resta es:\", Resta)\n",
        "    print(\"El resultado de la multiplicacion es:\", Multiplicacion)\n",
        "    print(\"El resultado de la division es:\", Division)\n",
        "    print(\"El resultado del exponente es:\", Exponente)\n",
        "    x =int(input(\"Inserte 0 para salir o cualquier otro numero para continuar:\"))\n",
        "    n1 = int(input(\"Introduce un número:\" ))\n",
        "    n2 = int(input(\"Introduce otro número:\"))\n"
      ],
      "execution_count": null,
      "outputs": []
    },
    {
      "cell_type": "markdown",
      "metadata": {
        "id": "dTrdNU_yrm0i"
      },
      "source": [
        "Ejercicio 3:\n",
        "Con loop while o for, realiza una lista de 10 numeros multiplos de 3, y después realiza una función de loop que sume todos los números dentro del arreglo."
      ]
    },
    {
      "cell_type": "code",
      "metadata": {
        "id": "k14_QpRBrr6x"
      },
      "source": [
        "x=3\n",
        "z=1\n",
        "suma=0\n",
        "for i in range(2,12):\n",
        "    mi=3*i\n",
        "    suma=suma+mi\n",
        "    print(\"Multiplo\",z,\"es:\",mi)\n",
        "    z=z+1\n",
        "print(\"La suma de los multiplos es:\",suma)\n",
        "   "
      ],
      "execution_count": null,
      "outputs": []
    },
    {
      "cell_type": "markdown",
      "metadata": {
        "id": "kvGadPgkrwvi"
      },
      "source": [
        "Ejercicio 4\n",
        "1.   Con una función de if else, revisar si un número es par o es impar.\n",
        "2.   Con una función de if else, revisar si un número es primo o no."
      ]
    },
    {
      "cell_type": "code",
      "metadata": {
        "id": "zNEIuWc6rzUK"
      },
      "source": [
        "n1=int(input(\"Inserte un numero: \"))\n",
        "\n",
        "r1=n1%2\n",
        "\n",
        "if r1==0:\n",
        "    print(\"El numero es par\")\n",
        "else:\n",
        "    print(\"El numero es impar\")\n",
        "\n",
        "n2=int(input(\"Inserte un numero: \"))\n",
        "for n in range(2, n2):\n",
        "        if n2 % n == 0:\n",
        "            print(\"No es primo\", n, \"es divisor\")\n",
        "        else:\n",
        "            print(\"Es primo\")\n"
      ],
      "execution_count": null,
      "outputs": []
    },
    {
      "cell_type": "markdown",
      "metadata": {
        "id": "0pjgdYlxsP8C"
      },
      "source": [
        "Ejercicio 5:\n",
        "Utilizando diferentes clases en python, crea una calculadora con los operadores básicos de suma, resta, multiplicación, división, y exponente."
      ]
    },
    {
      "cell_type": "code",
      "metadata": {
        "id": "9qoR-kqUuWaD"
      },
      "source": [
        "n1 = float(input(\"Introduce tu primer número: \") )\n",
        "n2 = float(input(\"Introduce tu segundo número: \") )\n",
        "\n",
        "opcion = 0\n",
        "while True:\n",
        "    print(\"\"\"\n",
        "    Dime, ¿qué quieres hacer?\n",
        "    \n",
        "    1) Sumar los dos números\n",
        "    2) Restar los dos números\n",
        "    3) Multiplicar los dos números\n",
        "    4) Dividir los dos numeros\n",
        "    5) Exponente\n",
        "    \"\"\")\n",
        "    opcion = int(input(\"Elige una opción: \") )     \n",
        "\n",
        "    if opcion == 1:\n",
        "        print(\" \")\n",
        "        print(\"RESULTADO: La suma de\",n1,\"+\",n2,\"es igual a\",n1+n2)\n",
        "    elif opcion == 2:\n",
        "        print(\" \")\n",
        "        print(\"RESULTADO: La resta de\",n1,\"-\",n2,\"es igual a\",n1-n2)\n",
        "    elif opcion == 3:\n",
        "        print(\" \")\n",
        "        print(\"RESULTADO: El producto de\",n1,\"*\",n2,\"es igual a\",n1*n2)\n",
        "    elif opcion == 4:\n",
        "        print(\" \")\n",
        "        print(\"RESULTADO: La division de\",n1,\"/\",n2,\"es igual a\",n1/n2)\n",
        "    elif opcion == 5:\n",
        "        print(\" \")\n",
        "        print(\"RESULTADO: El exponente de\",n1,\"**\",n2,\"es igual a\",n1**n2)\n",
        "    else:\n",
        "        print(\"Opción incorrecta\")"
      ],
      "execution_count": null,
      "outputs": []
    },
    {
      "cell_type": "markdown",
      "metadata": {
        "id": "nFXWApamufva"
      },
      "source": [
        "Tuplas\n",
        "1.   Crear una variable flotante, integer, boleana y compleja e imprimir el tipo de variable que es.\n",
        "2.   Crear una tupla con valores enteros imprimir el primer y ultimo valor.\n",
        "3.   Añadir 3 valores de string a la tupla.\n",
        "4.   Verificar si una variable existe dentro de la tupla.\n"
      ]
    },
    {
      "cell_type": "code",
      "metadata": {
        "id": "eg5KTvF-u6P1"
      },
      "source": [
        "#Punto 1\n",
        "flotante=10.5\n",
        "print(type(flotante))\n",
        "integer=6\n",
        "print(type(integer))\n",
        "boleana=True\n",
        "print(type(boleana))\n",
        "compleja=4+5j\n",
        "print(type(compleja))\n",
        "\n",
        "#Punto 2\n",
        "x=(1,2,3,4,5)\n",
        "print(x[0])\n",
        "print(x[4])\n",
        "\n",
        "#Punto 3\n",
        "y=(\"hola\",\"me llamo\",\"leo\")\n",
        "z=x+y\n",
        "print(z)\n",
        "\n",
        "#Punto 4\n",
        "variable=\"daniel\"\n",
        "if variable in z:\n",
        "    print(\"La variable existe dentro de la tupla\")\n",
        "else:\n",
        "    print(\"La variable no existe dentro de la tupla\")\n",
        "\n",
        "\n"
      ],
      "execution_count": null,
      "outputs": []
    },
    {
      "cell_type": "markdown",
      "metadata": {
        "id": "N6vtj54UvX7C"
      },
      "source": [
        "Listas\n",
        "\n",
        "1. Crear una lista con 40 elementos aleatorios enteros.\n",
        "2. Con una funcion (def) crear dos listas nuevas a partir de la lista creada por numeros aleatorios, en la cual en una esten los elementos pares, y en la otra los elementos impares.\n",
        "3. Crear dos variables con la longitud de ambas listas nuevas e imprimir las variables.\n",
        "4. Ordenar los elementos de la lista par de mayor a menor, y los de la lista impar de menor a mayor.\n",
        "5. Utilizar al menos cuatro de las funciones de listas en python en la lista original de 40 elementos.\n"
      ]
    },
    {
      "cell_type": "code",
      "metadata": {
        "id": "FTNGnbiZv23t"
      },
      "source": [
        "#Punto 1\n",
        "import random as rdm\n",
        "\n",
        "n=range(0,100)\n",
        "lista=rdm.sample(n,40)\n",
        "print(lista)\n",
        "\n",
        "#Punto 2\n",
        "def dividir(lista):\n",
        "    lista_pares=[0]\n",
        "    lista_impares=[0]\n",
        "    i=0\n",
        "    for i in range(0,len(lista)):\n",
        "        if lista[i]%2==0:\n",
        "            lista_pares.append(lista[i]) \n",
        "        else:\n",
        "             lista_impares.append(lista[i])\n",
        "    print(lista_impares)\n",
        "    print(lista_pares)\n",
        "\n",
        "\n",
        "#Punto 3\n",
        "listaejemplo=[8, 51, 29, 64, 86, 75, 52, 45, 3, 72, 30, 78, 62, 6, 88, 79, 67, 32, 4, 55, 41, 77, 37, 58, 53, 24, 11, 20, 15, 12, 56, 96, 82, 34, 26, 76, 28, 31, 69, 17]\n",
        "dividir([8, 51, 29, 64, 86, 75, 52, 45, 3, 72, 30, 78, 62, 6, 88, 79, 67, 32, 4, 55, 41, 77, 37, 58, 53, 24, 11, 20, 15, 12, 56, 96, 82, 34, 26, 76, 28, 31, 69, 17])\n",
        "lista_par=[0, 51, 29, 75, 45, 3, 79, 67, 55, 41, 77, 37, 53, 11, 15, 31, 69, 17]\n",
        "lista_impar=[0, 8, 64, 86, 52, 72, 30, 78, 62, 6, 88, 32, 4, 58, 24, 20, 12, 56, 96, 82, 34, 26, 76, 28]\n",
        "x=len(lista_par)\n",
        "print(x)\n",
        "y=len(lista_impar)\n",
        "print(y)\n",
        "\n",
        "\n",
        "#Punto 4\n",
        "lista_impar.sort()\n",
        "print(lista_impar)\n",
        "lista_par.sort(reverse=True)\n",
        "print(lista_par)\n",
        "\n",
        "\n",
        "#Punto 5\n",
        "print(dir(listaejemplo))\n",
        "listaejemplo.insert(0,\"Leonardo\")\n",
        "print(listaejemplo)\n",
        "lista_Add=[\"Daniel\",\"Castillo\"]\n",
        "listaejemplo.extend(lista_Add)\n",
        "print(listaejemplo)\n",
        "listaejemplo.reverse()\n",
        "print(listaejemplo)\n",
        "removed=listaejemplo.pop(1)\n",
        "print(listaejemplo)\n"
      ],
      "execution_count": null,
      "outputs": []
    },
    {
      "cell_type": "markdown",
      "metadata": {
        "id": "nJGzBSWlxNVh"
      },
      "source": [
        "Diccionarios\n",
        "1.   Crear un diccionario de 6 personas que conozcas con su primer nombre y su edad.\n",
        "2.   Crear una lista con los valores de la edad y reacomodar la lista de menor a mayor valor.\n",
        "3.   Usando el diccionario y un loop, imprimir solo los nombres.\n",
        "4.   Añadir dos personas nuevas a tu diccionario, incluyendo edad.\n"
      ]
    },
    {
      "cell_type": "code",
      "metadata": {
        "id": "Czdvz0r5xk06"
      },
      "source": [
        "#Punto 1\n",
        "person={\n",
        "    \"first name 1\": \"Leonardo\",\"age 1\": 20,\n",
        "    \"first name 2\": \"Galilea\", \"age 2\": 18,\n",
        "    \"first name 3\": \"Jose\"  ,  \"age 3\": 18,\n",
        "    \"first name 4\": \"Nelson\" , \"age 4\": 12,\n",
        "    \"first name 5\": \"Dania\",  \"age 5\": 20,\n",
        "    \"first name 6\": \"Antonio\" , \"age 6\": 20\n",
        "    }\n",
        "\n",
        "print(person)\n",
        "\n",
        "\n",
        "#Punto 2\n",
        "age=[20,18,18,18,12,20,20]\n",
        "age.sort()\n",
        "print(age)\n",
        "\n",
        "\n",
        "#Punto 3\n",
        "for i in person:\n",
        "    print(person[\"first name 1\"])\n",
        "    print(person[\"first name 2\"])\n",
        "    print(person[\"first name 3\"])\n",
        "    print(person[\"first name 4\"])\n",
        "    print(person[\"first name 5\"])\n",
        "    print(person[\"first name 6\"])\n",
        "    break\n",
        "\n",
        "\n",
        "#Punto 4\n",
        "person.update({\n",
        "    \"first name 7\": \"Carlos\", \"age 7\": 18,\n",
        "    \"first name 8\": \"Carlos\", \"age 8\": 18\n",
        "})\n",
        " \n",
        "print(person)\n"
      ],
      "execution_count": null,
      "outputs": []
    },
    {
      "cell_type": "markdown",
      "metadata": {
        "id": "WwWeWXZVx-9h"
      },
      "source": [
        "Sets\n",
        "1.   Crea un set con 100 numeros aleatorios enteros del 1 al 25.\n",
        "2.   Comprueba la longitud de tu set.\n",
        "3.   Crea una lista de 5 numeros aleatorios del 1 al 10 y comprueba si cada valor aparece en el set inicial.\n",
        "\n",
        "\n",
        "\n",
        "\n"
      ]
    },
    {
      "cell_type": "code",
      "metadata": {
        "id": "GtJrvd6xyN4k"
      },
      "source": [
        "import random\n",
        "\n",
        "mySet=set()\n",
        "lista=[]\n",
        "\n",
        "def Rand(start, end, num):\n",
        "    res =set()\n",
        "  \n",
        "    for element in range(num):\n",
        "        res.add(random.randint(start, end))\n",
        "  \n",
        "    return res\n",
        "  \n",
        "# Driver Code\n",
        "\n",
        "mySet= Rand(1, 25, 100)\n",
        "lista=list(Rand(1,10,6))\n",
        "\n",
        "\n",
        "\n",
        "print(\"Set:\")\n",
        "print(mySet)\n",
        "print(\"Longitud del set:\")\n",
        "print(len(mySet))\n",
        "print(\"Lista:\")\n",
        "print(lista)\n",
        "\n",
        "print(\"Numeros de la lista que aparecen en el set\")\n",
        "\n",
        "for number in lista:\n",
        "   if number in mySet:\n",
        "       print(number)\n",
        "\n"
      ],
      "execution_count": null,
      "outputs": []
    }
  ]
}